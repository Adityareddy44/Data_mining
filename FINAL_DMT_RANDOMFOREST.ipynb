{
  "nbformat": 4,
  "nbformat_minor": 0,
  "metadata": {
    "colab": {
      "provenance": []
    },
    "kernelspec": {
      "name": "python3",
      "display_name": "Python 3"
    },
    "language_info": {
      "name": "python"
    }
  },
  "cells": [
    {
      "cell_type": "code",
      "execution_count": 1,
      "metadata": {
        "id": "JgeYjZG_DdiC"
      },
      "outputs": [],
      "source": [
        "import numpy as np # linear algebra\n",
        "import pandas as pd # data processing, CSV file I/O (e.g. pd.read_csv)\n",
        "import matplotlib.pyplot as plt\n",
        "import seaborn as sns\n",
        "from sklearn.model_selection import StratifiedKFold\n",
        "from sklearn.metrics import accuracy_score,precision_score,recall_score,mean_squared_error\n",
        "from collections import Counter\n",
        "from sklearn.metrics import classification_report\n",
        "from sklearn.metrics import confusion_matrix"
      ]
    },
    {
      "cell_type": "code",
      "source": [
        "df = pd.read_csv(\"data 3.csv\")"
      ],
      "metadata": {
        "id": "Uf-riZTpD3PF"
      },
      "execution_count": 2,
      "outputs": []
    },
    {
      "cell_type": "code",
      "source": [
        "df.head()"
      ],
      "metadata": {
        "colab": {
          "base_uri": "https://localhost:8080/",
          "height": 317
        },
        "id": "RZo8YObDD3YL",
        "outputId": "94f87975-232e-44ec-cb94-6462676285e4"
      },
      "execution_count": 3,
      "outputs": [
        {
          "output_type": "execute_result",
          "data": {
            "text/plain": [
              "         id diagnosis  radius_mean  texture_mean  perimeter_mean  area_mean  \\\n",
              "0    842302         M        17.99         10.38          122.80     1001.0   \n",
              "1    842517         M        20.57         17.77          132.90     1326.0   \n",
              "2  84300903         M        19.69         21.25          130.00     1203.0   \n",
              "3  84348301         M        11.42         20.38           77.58      386.1   \n",
              "4  84358402         M        20.29         14.34          135.10     1297.0   \n",
              "\n",
              "   smoothness_mean  compactness_mean  concavity_mean  concave points_mean  \\\n",
              "0          0.11840           0.27760          0.3001              0.14710   \n",
              "1          0.08474           0.07864          0.0869              0.07017   \n",
              "2          0.10960           0.15990          0.1974              0.12790   \n",
              "3          0.14250           0.28390          0.2414              0.10520   \n",
              "4          0.10030           0.13280          0.1980              0.10430   \n",
              "\n",
              "   ...  texture_worst  perimeter_worst  area_worst  smoothness_worst  \\\n",
              "0  ...          17.33           184.60      2019.0            0.1622   \n",
              "1  ...          23.41           158.80      1956.0            0.1238   \n",
              "2  ...          25.53           152.50      1709.0            0.1444   \n",
              "3  ...          26.50            98.87       567.7            0.2098   \n",
              "4  ...          16.67           152.20      1575.0            0.1374   \n",
              "\n",
              "   compactness_worst  concavity_worst  concave points_worst  symmetry_worst  \\\n",
              "0             0.6656           0.7119                0.2654          0.4601   \n",
              "1             0.1866           0.2416                0.1860          0.2750   \n",
              "2             0.4245           0.4504                0.2430          0.3613   \n",
              "3             0.8663           0.6869                0.2575          0.6638   \n",
              "4             0.2050           0.4000                0.1625          0.2364   \n",
              "\n",
              "   fractal_dimension_worst  Unnamed: 32  \n",
              "0                  0.11890          NaN  \n",
              "1                  0.08902          NaN  \n",
              "2                  0.08758          NaN  \n",
              "3                  0.17300          NaN  \n",
              "4                  0.07678          NaN  \n",
              "\n",
              "[5 rows x 33 columns]"
            ],
            "text/html": [
              "\n",
              "  <div id=\"df-d5bfafca-d055-4937-ad34-cf3bef6b8319\">\n",
              "    <div class=\"colab-df-container\">\n",
              "      <div>\n",
              "<style scoped>\n",
              "    .dataframe tbody tr th:only-of-type {\n",
              "        vertical-align: middle;\n",
              "    }\n",
              "\n",
              "    .dataframe tbody tr th {\n",
              "        vertical-align: top;\n",
              "    }\n",
              "\n",
              "    .dataframe thead th {\n",
              "        text-align: right;\n",
              "    }\n",
              "</style>\n",
              "<table border=\"1\" class=\"dataframe\">\n",
              "  <thead>\n",
              "    <tr style=\"text-align: right;\">\n",
              "      <th></th>\n",
              "      <th>id</th>\n",
              "      <th>diagnosis</th>\n",
              "      <th>radius_mean</th>\n",
              "      <th>texture_mean</th>\n",
              "      <th>perimeter_mean</th>\n",
              "      <th>area_mean</th>\n",
              "      <th>smoothness_mean</th>\n",
              "      <th>compactness_mean</th>\n",
              "      <th>concavity_mean</th>\n",
              "      <th>concave points_mean</th>\n",
              "      <th>...</th>\n",
              "      <th>texture_worst</th>\n",
              "      <th>perimeter_worst</th>\n",
              "      <th>area_worst</th>\n",
              "      <th>smoothness_worst</th>\n",
              "      <th>compactness_worst</th>\n",
              "      <th>concavity_worst</th>\n",
              "      <th>concave points_worst</th>\n",
              "      <th>symmetry_worst</th>\n",
              "      <th>fractal_dimension_worst</th>\n",
              "      <th>Unnamed: 32</th>\n",
              "    </tr>\n",
              "  </thead>\n",
              "  <tbody>\n",
              "    <tr>\n",
              "      <th>0</th>\n",
              "      <td>842302</td>\n",
              "      <td>M</td>\n",
              "      <td>17.99</td>\n",
              "      <td>10.38</td>\n",
              "      <td>122.80</td>\n",
              "      <td>1001.0</td>\n",
              "      <td>0.11840</td>\n",
              "      <td>0.27760</td>\n",
              "      <td>0.3001</td>\n",
              "      <td>0.14710</td>\n",
              "      <td>...</td>\n",
              "      <td>17.33</td>\n",
              "      <td>184.60</td>\n",
              "      <td>2019.0</td>\n",
              "      <td>0.1622</td>\n",
              "      <td>0.6656</td>\n",
              "      <td>0.7119</td>\n",
              "      <td>0.2654</td>\n",
              "      <td>0.4601</td>\n",
              "      <td>0.11890</td>\n",
              "      <td>NaN</td>\n",
              "    </tr>\n",
              "    <tr>\n",
              "      <th>1</th>\n",
              "      <td>842517</td>\n",
              "      <td>M</td>\n",
              "      <td>20.57</td>\n",
              "      <td>17.77</td>\n",
              "      <td>132.90</td>\n",
              "      <td>1326.0</td>\n",
              "      <td>0.08474</td>\n",
              "      <td>0.07864</td>\n",
              "      <td>0.0869</td>\n",
              "      <td>0.07017</td>\n",
              "      <td>...</td>\n",
              "      <td>23.41</td>\n",
              "      <td>158.80</td>\n",
              "      <td>1956.0</td>\n",
              "      <td>0.1238</td>\n",
              "      <td>0.1866</td>\n",
              "      <td>0.2416</td>\n",
              "      <td>0.1860</td>\n",
              "      <td>0.2750</td>\n",
              "      <td>0.08902</td>\n",
              "      <td>NaN</td>\n",
              "    </tr>\n",
              "    <tr>\n",
              "      <th>2</th>\n",
              "      <td>84300903</td>\n",
              "      <td>M</td>\n",
              "      <td>19.69</td>\n",
              "      <td>21.25</td>\n",
              "      <td>130.00</td>\n",
              "      <td>1203.0</td>\n",
              "      <td>0.10960</td>\n",
              "      <td>0.15990</td>\n",
              "      <td>0.1974</td>\n",
              "      <td>0.12790</td>\n",
              "      <td>...</td>\n",
              "      <td>25.53</td>\n",
              "      <td>152.50</td>\n",
              "      <td>1709.0</td>\n",
              "      <td>0.1444</td>\n",
              "      <td>0.4245</td>\n",
              "      <td>0.4504</td>\n",
              "      <td>0.2430</td>\n",
              "      <td>0.3613</td>\n",
              "      <td>0.08758</td>\n",
              "      <td>NaN</td>\n",
              "    </tr>\n",
              "    <tr>\n",
              "      <th>3</th>\n",
              "      <td>84348301</td>\n",
              "      <td>M</td>\n",
              "      <td>11.42</td>\n",
              "      <td>20.38</td>\n",
              "      <td>77.58</td>\n",
              "      <td>386.1</td>\n",
              "      <td>0.14250</td>\n",
              "      <td>0.28390</td>\n",
              "      <td>0.2414</td>\n",
              "      <td>0.10520</td>\n",
              "      <td>...</td>\n",
              "      <td>26.50</td>\n",
              "      <td>98.87</td>\n",
              "      <td>567.7</td>\n",
              "      <td>0.2098</td>\n",
              "      <td>0.8663</td>\n",
              "      <td>0.6869</td>\n",
              "      <td>0.2575</td>\n",
              "      <td>0.6638</td>\n",
              "      <td>0.17300</td>\n",
              "      <td>NaN</td>\n",
              "    </tr>\n",
              "    <tr>\n",
              "      <th>4</th>\n",
              "      <td>84358402</td>\n",
              "      <td>M</td>\n",
              "      <td>20.29</td>\n",
              "      <td>14.34</td>\n",
              "      <td>135.10</td>\n",
              "      <td>1297.0</td>\n",
              "      <td>0.10030</td>\n",
              "      <td>0.13280</td>\n",
              "      <td>0.1980</td>\n",
              "      <td>0.10430</td>\n",
              "      <td>...</td>\n",
              "      <td>16.67</td>\n",
              "      <td>152.20</td>\n",
              "      <td>1575.0</td>\n",
              "      <td>0.1374</td>\n",
              "      <td>0.2050</td>\n",
              "      <td>0.4000</td>\n",
              "      <td>0.1625</td>\n",
              "      <td>0.2364</td>\n",
              "      <td>0.07678</td>\n",
              "      <td>NaN</td>\n",
              "    </tr>\n",
              "  </tbody>\n",
              "</table>\n",
              "<p>5 rows × 33 columns</p>\n",
              "</div>\n",
              "      <button class=\"colab-df-convert\" onclick=\"convertToInteractive('df-d5bfafca-d055-4937-ad34-cf3bef6b8319')\"\n",
              "              title=\"Convert this dataframe to an interactive table.\"\n",
              "              style=\"display:none;\">\n",
              "        \n",
              "  <svg xmlns=\"http://www.w3.org/2000/svg\" height=\"24px\"viewBox=\"0 0 24 24\"\n",
              "       width=\"24px\">\n",
              "    <path d=\"M0 0h24v24H0V0z\" fill=\"none\"/>\n",
              "    <path d=\"M18.56 5.44l.94 2.06.94-2.06 2.06-.94-2.06-.94-.94-2.06-.94 2.06-2.06.94zm-11 1L8.5 8.5l.94-2.06 2.06-.94-2.06-.94L8.5 2.5l-.94 2.06-2.06.94zm10 10l.94 2.06.94-2.06 2.06-.94-2.06-.94-.94-2.06-.94 2.06-2.06.94z\"/><path d=\"M17.41 7.96l-1.37-1.37c-.4-.4-.92-.59-1.43-.59-.52 0-1.04.2-1.43.59L10.3 9.45l-7.72 7.72c-.78.78-.78 2.05 0 2.83L4 21.41c.39.39.9.59 1.41.59.51 0 1.02-.2 1.41-.59l7.78-7.78 2.81-2.81c.8-.78.8-2.07 0-2.86zM5.41 20L4 18.59l7.72-7.72 1.47 1.35L5.41 20z\"/>\n",
              "  </svg>\n",
              "      </button>\n",
              "      \n",
              "  <style>\n",
              "    .colab-df-container {\n",
              "      display:flex;\n",
              "      flex-wrap:wrap;\n",
              "      gap: 12px;\n",
              "    }\n",
              "\n",
              "    .colab-df-convert {\n",
              "      background-color: #E8F0FE;\n",
              "      border: none;\n",
              "      border-radius: 50%;\n",
              "      cursor: pointer;\n",
              "      display: none;\n",
              "      fill: #1967D2;\n",
              "      height: 32px;\n",
              "      padding: 0 0 0 0;\n",
              "      width: 32px;\n",
              "    }\n",
              "\n",
              "    .colab-df-convert:hover {\n",
              "      background-color: #E2EBFA;\n",
              "      box-shadow: 0px 1px 2px rgba(60, 64, 67, 0.3), 0px 1px 3px 1px rgba(60, 64, 67, 0.15);\n",
              "      fill: #174EA6;\n",
              "    }\n",
              "\n",
              "    [theme=dark] .colab-df-convert {\n",
              "      background-color: #3B4455;\n",
              "      fill: #D2E3FC;\n",
              "    }\n",
              "\n",
              "    [theme=dark] .colab-df-convert:hover {\n",
              "      background-color: #434B5C;\n",
              "      box-shadow: 0px 1px 3px 1px rgba(0, 0, 0, 0.15);\n",
              "      filter: drop-shadow(0px 1px 2px rgba(0, 0, 0, 0.3));\n",
              "      fill: #FFFFFF;\n",
              "    }\n",
              "  </style>\n",
              "\n",
              "      <script>\n",
              "        const buttonEl =\n",
              "          document.querySelector('#df-d5bfafca-d055-4937-ad34-cf3bef6b8319 button.colab-df-convert');\n",
              "        buttonEl.style.display =\n",
              "          google.colab.kernel.accessAllowed ? 'block' : 'none';\n",
              "\n",
              "        async function convertToInteractive(key) {\n",
              "          const element = document.querySelector('#df-d5bfafca-d055-4937-ad34-cf3bef6b8319');\n",
              "          const dataTable =\n",
              "            await google.colab.kernel.invokeFunction('convertToInteractive',\n",
              "                                                     [key], {});\n",
              "          if (!dataTable) return;\n",
              "\n",
              "          const docLinkHtml = 'Like what you see? Visit the ' +\n",
              "            '<a target=\"_blank\" href=https://colab.research.google.com/notebooks/data_table.ipynb>data table notebook</a>'\n",
              "            + ' to learn more about interactive tables.';\n",
              "          element.innerHTML = '';\n",
              "          dataTable['output_type'] = 'display_data';\n",
              "          await google.colab.output.renderOutput(dataTable, element);\n",
              "          const docLink = document.createElement('div');\n",
              "          docLink.innerHTML = docLinkHtml;\n",
              "          element.appendChild(docLink);\n",
              "        }\n",
              "      </script>\n",
              "    </div>\n",
              "  </div>\n",
              "  "
            ]
          },
          "metadata": {},
          "execution_count": 3
        }
      ]
    },
    {
      "cell_type": "code",
      "source": [
        "df.info()"
      ],
      "metadata": {
        "colab": {
          "base_uri": "https://localhost:8080/"
        },
        "id": "lWpfss_iD3a0",
        "outputId": "6f66bd34-af51-423f-c2c9-0477ce0cb961"
      },
      "execution_count": 4,
      "outputs": [
        {
          "output_type": "stream",
          "name": "stdout",
          "text": [
            "<class 'pandas.core.frame.DataFrame'>\n",
            "RangeIndex: 569 entries, 0 to 568\n",
            "Data columns (total 33 columns):\n",
            " #   Column                   Non-Null Count  Dtype  \n",
            "---  ------                   --------------  -----  \n",
            " 0   id                       569 non-null    int64  \n",
            " 1   diagnosis                569 non-null    object \n",
            " 2   radius_mean              569 non-null    float64\n",
            " 3   texture_mean             569 non-null    float64\n",
            " 4   perimeter_mean           569 non-null    float64\n",
            " 5   area_mean                569 non-null    float64\n",
            " 6   smoothness_mean          569 non-null    float64\n",
            " 7   compactness_mean         569 non-null    float64\n",
            " 8   concavity_mean           569 non-null    float64\n",
            " 9   concave points_mean      569 non-null    float64\n",
            " 10  symmetry_mean            569 non-null    float64\n",
            " 11  fractal_dimension_mean   569 non-null    float64\n",
            " 12  radius_se                569 non-null    float64\n",
            " 13  texture_se               569 non-null    float64\n",
            " 14  perimeter_se             569 non-null    float64\n",
            " 15  area_se                  569 non-null    float64\n",
            " 16  smoothness_se            569 non-null    float64\n",
            " 17  compactness_se           569 non-null    float64\n",
            " 18  concavity_se             569 non-null    float64\n",
            " 19  concave points_se        569 non-null    float64\n",
            " 20  symmetry_se              569 non-null    float64\n",
            " 21  fractal_dimension_se     569 non-null    float64\n",
            " 22  radius_worst             569 non-null    float64\n",
            " 23  texture_worst            569 non-null    float64\n",
            " 24  perimeter_worst          569 non-null    float64\n",
            " 25  area_worst               569 non-null    float64\n",
            " 26  smoothness_worst         569 non-null    float64\n",
            " 27  compactness_worst        569 non-null    float64\n",
            " 28  concavity_worst          569 non-null    float64\n",
            " 29  concave points_worst     569 non-null    float64\n",
            " 30  symmetry_worst           569 non-null    float64\n",
            " 31  fractal_dimension_worst  569 non-null    float64\n",
            " 32  Unnamed: 32              0 non-null      float64\n",
            "dtypes: float64(31), int64(1), object(1)\n",
            "memory usage: 146.8+ KB\n"
          ]
        }
      ]
    },
    {
      "cell_type": "code",
      "source": [
        "df.isnull().sum()"
      ],
      "metadata": {
        "colab": {
          "base_uri": "https://localhost:8080/"
        },
        "id": "J4VMCyxlD3dP",
        "outputId": "9df15eb2-60aa-4c1a-c4fd-c974442a26bf"
      },
      "execution_count": 5,
      "outputs": [
        {
          "output_type": "execute_result",
          "data": {
            "text/plain": [
              "id                           0\n",
              "diagnosis                    0\n",
              "radius_mean                  0\n",
              "texture_mean                 0\n",
              "perimeter_mean               0\n",
              "area_mean                    0\n",
              "smoothness_mean              0\n",
              "compactness_mean             0\n",
              "concavity_mean               0\n",
              "concave points_mean          0\n",
              "symmetry_mean                0\n",
              "fractal_dimension_mean       0\n",
              "radius_se                    0\n",
              "texture_se                   0\n",
              "perimeter_se                 0\n",
              "area_se                      0\n",
              "smoothness_se                0\n",
              "compactness_se               0\n",
              "concavity_se                 0\n",
              "concave points_se            0\n",
              "symmetry_se                  0\n",
              "fractal_dimension_se         0\n",
              "radius_worst                 0\n",
              "texture_worst                0\n",
              "perimeter_worst              0\n",
              "area_worst                   0\n",
              "smoothness_worst             0\n",
              "compactness_worst            0\n",
              "concavity_worst              0\n",
              "concave points_worst         0\n",
              "symmetry_worst               0\n",
              "fractal_dimension_worst      0\n",
              "Unnamed: 32                569\n",
              "dtype: int64"
            ]
          },
          "metadata": {},
          "execution_count": 5
        }
      ]
    },
    {
      "cell_type": "code",
      "source": [
        "# This code removes the columns \"id\" and \"Unnamed: 32\" from the Pandas DataFrame \"df:\n",
        "df.drop(['id','Unnamed: 32'],inplace = True, axis = 1)"
      ],
      "metadata": {
        "id": "lcDy53P3D3gC"
      },
      "execution_count": 6,
      "outputs": []
    },
    {
      "cell_type": "code",
      "source": [
        "df.isnull().sum()"
      ],
      "metadata": {
        "colab": {
          "base_uri": "https://localhost:8080/"
        },
        "id": "2qIlI8LED3iq",
        "outputId": "6c8e1a07-498f-4448-e425-94628f49c443"
      },
      "execution_count": 7,
      "outputs": [
        {
          "output_type": "execute_result",
          "data": {
            "text/plain": [
              "diagnosis                  0\n",
              "radius_mean                0\n",
              "texture_mean               0\n",
              "perimeter_mean             0\n",
              "area_mean                  0\n",
              "smoothness_mean            0\n",
              "compactness_mean           0\n",
              "concavity_mean             0\n",
              "concave points_mean        0\n",
              "symmetry_mean              0\n",
              "fractal_dimension_mean     0\n",
              "radius_se                  0\n",
              "texture_se                 0\n",
              "perimeter_se               0\n",
              "area_se                    0\n",
              "smoothness_se              0\n",
              "compactness_se             0\n",
              "concavity_se               0\n",
              "concave points_se          0\n",
              "symmetry_se                0\n",
              "fractal_dimension_se       0\n",
              "radius_worst               0\n",
              "texture_worst              0\n",
              "perimeter_worst            0\n",
              "area_worst                 0\n",
              "smoothness_worst           0\n",
              "compactness_worst          0\n",
              "concavity_worst            0\n",
              "concave points_worst       0\n",
              "symmetry_worst             0\n",
              "fractal_dimension_worst    0\n",
              "dtype: int64"
            ]
          },
          "metadata": {},
          "execution_count": 7
        }
      ]
    },
    {
      "cell_type": "code",
      "source": [
        "# diagnosis_value that takes a single argument called diagnosis. If diagnosis is equal to 'M', the function returns 1, otherwise it returns 0.\n",
        "def diagnosis_value(diagnosis):\n",
        "    if diagnosis == 'M':\n",
        "        return 1\n",
        "    else:\n",
        "        return 0\n",
        "\n",
        "df['diagnosis'] = df['diagnosis'].apply(diagnosis_value)"
      ],
      "metadata": {
        "id": "SWcr-CoQD3lV"
      },
      "execution_count": 8,
      "outputs": []
    },
    {
      "cell_type": "code",
      "source": [
        "df.info()"
      ],
      "metadata": {
        "colab": {
          "base_uri": "https://localhost:8080/"
        },
        "id": "OCEZx3_DD3oG",
        "outputId": "4cb0adee-f573-4c4c-ce67-28f9d5eb817a"
      },
      "execution_count": 9,
      "outputs": [
        {
          "output_type": "stream",
          "name": "stdout",
          "text": [
            "<class 'pandas.core.frame.DataFrame'>\n",
            "RangeIndex: 569 entries, 0 to 568\n",
            "Data columns (total 31 columns):\n",
            " #   Column                   Non-Null Count  Dtype  \n",
            "---  ------                   --------------  -----  \n",
            " 0   diagnosis                569 non-null    int64  \n",
            " 1   radius_mean              569 non-null    float64\n",
            " 2   texture_mean             569 non-null    float64\n",
            " 3   perimeter_mean           569 non-null    float64\n",
            " 4   area_mean                569 non-null    float64\n",
            " 5   smoothness_mean          569 non-null    float64\n",
            " 6   compactness_mean         569 non-null    float64\n",
            " 7   concavity_mean           569 non-null    float64\n",
            " 8   concave points_mean      569 non-null    float64\n",
            " 9   symmetry_mean            569 non-null    float64\n",
            " 10  fractal_dimension_mean   569 non-null    float64\n",
            " 11  radius_se                569 non-null    float64\n",
            " 12  texture_se               569 non-null    float64\n",
            " 13  perimeter_se             569 non-null    float64\n",
            " 14  area_se                  569 non-null    float64\n",
            " 15  smoothness_se            569 non-null    float64\n",
            " 16  compactness_se           569 non-null    float64\n",
            " 17  concavity_se             569 non-null    float64\n",
            " 18  concave points_se        569 non-null    float64\n",
            " 19  symmetry_se              569 non-null    float64\n",
            " 20  fractal_dimension_se     569 non-null    float64\n",
            " 21  radius_worst             569 non-null    float64\n",
            " 22  texture_worst            569 non-null    float64\n",
            " 23  perimeter_worst          569 non-null    float64\n",
            " 24  area_worst               569 non-null    float64\n",
            " 25  smoothness_worst         569 non-null    float64\n",
            " 26  compactness_worst        569 non-null    float64\n",
            " 27  concavity_worst          569 non-null    float64\n",
            " 28  concave points_worst     569 non-null    float64\n",
            " 29  symmetry_worst           569 non-null    float64\n",
            " 30  fractal_dimension_worst  569 non-null    float64\n",
            "dtypes: float64(30), int64(1)\n",
            "memory usage: 137.9 KB\n"
          ]
        }
      ]
    },
    {
      "cell_type": "code",
      "source": [
        "df[\"diagnosis\"].value_counts(normalize=True).plot(kind='bar')\n",
        "plt.show()"
      ],
      "metadata": {
        "colab": {
          "base_uri": "https://localhost:8080/",
          "height": 262
        },
        "id": "_lswS9WlD3qw",
        "outputId": "927ad1b2-214a-4cd8-888b-dc900d8382db"
      },
      "execution_count": 10,
      "outputs": [
        {
          "output_type": "display_data",
          "data": {
            "text/plain": [
              "<Figure size 432x288 with 1 Axes>"
            ],
            "image/png": "[encoded data removed]"
          },
          "metadata": {
            "needs_background": "light"
          }
        }
      ]
    },
    {
      "cell_type": "code",
      "source": [
        "X= df.drop(\"diagnosis\",axis=1)\n",
        "y= df[\"diagnosis\"]"
      ],
      "metadata": {
        "id": "WS8notSTD3th"
      },
      "execution_count": 11,
      "outputs": []
    },
    {
      "cell_type": "code",
      "source": [
        "# This code performs oversampling using the Synthetic Minority Over-sampling Technique (SMOTE) to balance the classes in the target variable y.\n",
        "from imblearn.over_sampling import SMOTE\n",
        "sm = SMOTE()\n",
        "X, y = sm.fit_resample(X, y)\n"
      ],
      "metadata": {
        "id": "WvulOQ5vD3wV"
      },
      "execution_count": 12,
      "outputs": []
    },
    {
      "cell_type": "code",
      "source": [
        "# This code splits the data into training and testing sets using the train_test_split() function from the Scikit-learn library.\n",
        "from sklearn.model_selection import train_test_split\n",
        "X_train,X_test,y_train,y_test=train_test_split(X,y,test_size=0.3,random_state=1)\n",
        "print(X_train.shape)\n",
        "print(X_test.shape)"
      ],
      "metadata": {
        "colab": {
          "base_uri": "https://localhost:8080/"
        },
        "id": "IMRKGh0jD3y9",
        "outputId": "896c8512-17af-46cd-ecf9-49e21484d874"
      },
      "execution_count": 13,
      "outputs": [
        {
          "output_type": "stream",
          "name": "stdout",
          "text": [
            "(499, 30)\n",
            "(215, 30)\n"
          ]
        }
      ]
    },
    {
      "cell_type": "code",
      "source": [
        "# This function scales the data to have zero mean and unit variance, and then assigns the standardized data to X_train and X_test as Pandas DataFrames.\n",
        "from sklearn.preprocessing import StandardScaler\n",
        "sc=StandardScaler()\n",
        "X_train=pd.DataFrame(sc.fit_transform(X_train))\n",
        "X_test=pd.DataFrame(sc.transform(X_test))\n",
        "X_train.head()"
      ],
      "metadata": {
        "id": "lN8wQCeDD313",
        "colab": {
          "base_uri": "https://localhost:8080/",
          "height": 300
        },
        "outputId": "ca3b0119-1e64-4418-80c1-702e8fe3de97"
      },
      "execution_count": 14,
      "outputs": [
        {
          "output_type": "execute_result",
          "data": {
            "text/plain": [
              "         0         1         2         3         4         5         6   \\\n",
              "0 -0.998521 -0.615949 -0.981893 -0.921459  1.693234 -0.046814 -0.731849   \n",
              "1 -0.723712 -0.191288 -0.766445 -0.709718 -0.966306 -0.976457 -1.141727   \n",
              "2 -0.808903  0.114087 -0.788746 -0.778238  0.907494  0.085560 -0.387809   \n",
              "3 -0.850124 -0.320118 -0.877156 -0.797316 -0.875011 -0.964922 -0.817983   \n",
              "4  1.507738 -0.038600  1.509104  1.452572  1.236757  0.743647  1.405034   \n",
              "\n",
              "         7         8         9   ...        20        21        22        23  \\\n",
              "0 -0.305276  0.523188  2.514340  ... -1.079506 -0.914325 -1.064154 -0.927361   \n",
              "1 -1.163395 -1.002637 -0.294570  ... -0.687700  0.126916 -0.760076 -0.675067   \n",
              "2 -0.438291  0.672329  0.295476  ... -0.751996 -0.013125 -0.691179 -0.706209   \n",
              "3 -0.930444 -1.151778 -0.569925  ... -0.862505 -0.373934 -0.872289 -0.787476   \n",
              "4  1.783301 -0.356360 -0.287285  ...  0.998072 -0.200943  0.968458  0.851019   \n",
              "\n",
              "         24        25        26        27        28        29  \n",
              "0  1.467568 -0.428733 -0.845625 -0.454149 -0.234499  1.720167  \n",
              "1 -0.196542 -0.848798 -1.238526 -1.130344 -0.068345 -0.209869  \n",
              "2  0.111296 -0.514726 -0.504141 -0.699635  0.410179 -0.261380  \n",
              "3  0.039913 -0.566692 -0.550973 -0.641666  0.479964 -0.327914  \n",
              "4  1.480953  0.134859  1.131078  1.414298  0.184210 -0.214162  \n",
              "\n",
              "[5 rows x 30 columns]"
            ],
            "text/html": [
              "\n",
              "  <div id=\"df-e009074e-c8e5-434a-8a55-89bd3fb002a8\">\n",
              "    <div class=\"colab-df-container\">\n",
              "      <div>\n",
              "<style scoped>\n",
              "    .dataframe tbody tr th:only-of-type {\n",
              "        vertical-align: middle;\n",
              "    }\n",
              "\n",
              "    .dataframe tbody tr th {\n",
              "        vertical-align: top;\n",
              "    }\n",
              "\n",
              "    .dataframe thead th {\n",
              "        text-align: right;\n",
              "    }\n",
              "</style>\n",
              "<table border=\"1\" class=\"dataframe\">\n",
              "  <thead>\n",
              "    <tr style=\"text-align: right;\">\n",
              "      <th></th>\n",
              "      <th>0</th>\n",
              "      <th>1</th>\n",
              "      <th>2</th>\n",
              "      <th>3</th>\n",
              "      <th>4</th>\n",
              "      <th>5</th>\n",
              "      <th>6</th>\n",
              "      <th>7</th>\n",
              "      <th>8</th>\n",
              "      <th>9</th>\n",
              "      <th>...</th>\n",
              "      <th>20</th>\n",
              "      <th>21</th>\n",
              "      <th>22</th>\n",
              "      <th>23</th>\n",
              "      <th>24</th>\n",
              "      <th>25</th>\n",
              "      <th>26</th>\n",
              "      <th>27</th>\n",
              "      <th>28</th>\n",
              "      <th>29</th>\n",
              "    </tr>\n",
              "  </thead>\n",
              "  <tbody>\n",
              "    <tr>\n",
              "      <th>0</th>\n",
              "      <td>-0.998521</td>\n",
              "      <td>-0.615949</td>\n",
              "      <td>-0.981893</td>\n",
              "      <td>-0.921459</td>\n",
              "      <td>1.693234</td>\n",
              "      <td>-0.046814</td>\n",
              "      <td>-0.731849</td>\n",
              "      <td>-0.305276</td>\n",
              "      <td>0.523188</td>\n",
              "      <td>2.514340</td>\n",
              "      <td>...</td>\n",
              "      <td>-1.079506</td>\n",
              "      <td>-0.914325</td>\n",
              "      <td>-1.064154</td>\n",
              "      <td>-0.927361</td>\n",
              "      <td>1.467568</td>\n",
              "      <td>-0.428733</td>\n",
              "      <td>-0.845625</td>\n",
              "      <td>-0.454149</td>\n",
              "      <td>-0.234499</td>\n",
              "      <td>1.720167</td>\n",
              "    </tr>\n",
              "    <tr>\n",
              "      <th>1</th>\n",
              "      <td>-0.723712</td>\n",
              "      <td>-0.191288</td>\n",
              "      <td>-0.766445</td>\n",
              "      <td>-0.709718</td>\n",
              "      <td>-0.966306</td>\n",
              "      <td>-0.976457</td>\n",
              "      <td>-1.141727</td>\n",
              "      <td>-1.163395</td>\n",
              "      <td>-1.002637</td>\n",
              "      <td>-0.294570</td>\n",
              "      <td>...</td>\n",
              "      <td>-0.687700</td>\n",
              "      <td>0.126916</td>\n",
              "      <td>-0.760076</td>\n",
              "      <td>-0.675067</td>\n",
              "      <td>-0.196542</td>\n",
              "      <td>-0.848798</td>\n",
              "      <td>-1.238526</td>\n",
              "      <td>-1.130344</td>\n",
              "      <td>-0.068345</td>\n",
              "      <td>-0.209869</td>\n",
              "    </tr>\n",
              "    <tr>\n",
              "      <th>2</th>\n",
              "      <td>-0.808903</td>\n",
              "      <td>0.114087</td>\n",
              "      <td>-0.788746</td>\n",
              "      <td>-0.778238</td>\n",
              "      <td>0.907494</td>\n",
              "      <td>0.085560</td>\n",
              "      <td>-0.387809</td>\n",
              "      <td>-0.438291</td>\n",
              "      <td>0.672329</td>\n",
              "      <td>0.295476</td>\n",
              "      <td>...</td>\n",
              "      <td>-0.751996</td>\n",
              "      <td>-0.013125</td>\n",
              "      <td>-0.691179</td>\n",
              "      <td>-0.706209</td>\n",
              "      <td>0.111296</td>\n",
              "      <td>-0.514726</td>\n",
              "      <td>-0.504141</td>\n",
              "      <td>-0.699635</td>\n",
              "      <td>0.410179</td>\n",
              "      <td>-0.261380</td>\n",
              "    </tr>\n",
              "    <tr>\n",
              "      <th>3</th>\n",
              "      <td>-0.850124</td>\n",
              "      <td>-0.320118</td>\n",
              "      <td>-0.877156</td>\n",
              "      <td>-0.797316</td>\n",
              "      <td>-0.875011</td>\n",
              "      <td>-0.964922</td>\n",
              "      <td>-0.817983</td>\n",
              "      <td>-0.930444</td>\n",
              "      <td>-1.151778</td>\n",
              "      <td>-0.569925</td>\n",
              "      <td>...</td>\n",
              "      <td>-0.862505</td>\n",
              "      <td>-0.373934</td>\n",
              "      <td>-0.872289</td>\n",
              "      <td>-0.787476</td>\n",
              "      <td>0.039913</td>\n",
              "      <td>-0.566692</td>\n",
              "      <td>-0.550973</td>\n",
              "      <td>-0.641666</td>\n",
              "      <td>0.479964</td>\n",
              "      <td>-0.327914</td>\n",
              "    </tr>\n",
              "    <tr>\n",
              "      <th>4</th>\n",
              "      <td>1.507738</td>\n",
              "      <td>-0.038600</td>\n",
              "      <td>1.509104</td>\n",
              "      <td>1.452572</td>\n",
              "      <td>1.236757</td>\n",
              "      <td>0.743647</td>\n",
              "      <td>1.405034</td>\n",
              "      <td>1.783301</td>\n",
              "      <td>-0.356360</td>\n",
              "      <td>-0.287285</td>\n",
              "      <td>...</td>\n",
              "      <td>0.998072</td>\n",
              "      <td>-0.200943</td>\n",
              "      <td>0.968458</td>\n",
              "      <td>0.851019</td>\n",
              "      <td>1.480953</td>\n",
              "      <td>0.134859</td>\n",
              "      <td>1.131078</td>\n",
              "      <td>1.414298</td>\n",
              "      <td>0.184210</td>\n",
              "      <td>-0.214162</td>\n",
              "    </tr>\n",
              "  </tbody>\n",
              "</table>\n",
              "<p>5 rows × 30 columns</p>\n",
              "</div>\n",
              "      <button class=\"colab-df-convert\" onclick=\"convertToInteractive('df-e009074e-c8e5-434a-8a55-89bd3fb002a8')\"\n",
              "              title=\"Convert this dataframe to an interactive table.\"\n",
              "              style=\"display:none;\">\n",
              "        \n",
              "  <svg xmlns=\"http://www.w3.org/2000/svg\" height=\"24px\"viewBox=\"0 0 24 24\"\n",
              "       width=\"24px\">\n",
              "    <path d=\"M0 0h24v24H0V0z\" fill=\"none\"/>\n",
              "    <path d=\"M18.56 5.44l.94 2.06.94-2.06 2.06-.94-2.06-.94-.94-2.06-.94 2.06-2.06.94zm-11 1L8.5 8.5l.94-2.06 2.06-.94-2.06-.94L8.5 2.5l-.94 2.06-2.06.94zm10 10l.94 2.06.94-2.06 2.06-.94-2.06-.94-.94-2.06-.94 2.06-2.06.94z\"/><path d=\"M17.41 7.96l-1.37-1.37c-.4-.4-.92-.59-1.43-.59-.52 0-1.04.2-1.43.59L10.3 9.45l-7.72 7.72c-.78.78-.78 2.05 0 2.83L4 21.41c.39.39.9.59 1.41.59.51 0 1.02-.2 1.41-.59l7.78-7.78 2.81-2.81c.8-.78.8-2.07 0-2.86zM5.41 20L4 18.59l7.72-7.72 1.47 1.35L5.41 20z\"/>\n",
              "  </svg>\n",
              "      </button>\n",
              "      \n",
              "  <style>\n",
              "    .colab-df-container {\n",
              "      display:flex;\n",
              "      flex-wrap:wrap;\n",
              "      gap: 12px;\n",
              "    }\n",
              "\n",
              "    .colab-df-convert {\n",
              "      background-color: #E8F0FE;\n",
              "      border: none;\n",
              "      border-radius: 50%;\n",
              "      cursor: pointer;\n",
              "      display: none;\n",
              "      fill: #1967D2;\n",
              "      height: 32px;\n",
              "      padding: 0 0 0 0;\n",
              "      width: 32px;\n",
              "    }\n",
              "\n",
              "    .colab-df-convert:hover {\n",
              "      background-color: #E2EBFA;\n",
              "      box-shadow: 0px 1px 2px rgba(60, 64, 67, 0.3), 0px 1px 3px 1px rgba(60, 64, 67, 0.15);\n",
              "      fill: #174EA6;\n",
              "    }\n",
              "\n",
              "    [theme=dark] .colab-df-convert {\n",
              "      background-color: #3B4455;\n",
              "      fill: #D2E3FC;\n",
              "    }\n",
              "\n",
              "    [theme=dark] .colab-df-convert:hover {\n",
              "      background-color: #434B5C;\n",
              "      box-shadow: 0px 1px 3px 1px rgba(0, 0, 0, 0.15);\n",
              "      filter: drop-shadow(0px 1px 2px rgba(0, 0, 0, 0.3));\n",
              "      fill: #FFFFFF;\n",
              "    }\n",
              "  </style>\n",
              "\n",
              "      <script>\n",
              "        const buttonEl =\n",
              "          document.querySelector('#df-e009074e-c8e5-434a-8a55-89bd3fb002a8 button.colab-df-convert');\n",
              "        buttonEl.style.display =\n",
              "          google.colab.kernel.accessAllowed ? 'block' : 'none';\n",
              "\n",
              "        async function convertToInteractive(key) {\n",
              "          const element = document.querySelector('#df-e009074e-c8e5-434a-8a55-89bd3fb002a8');\n",
              "          const dataTable =\n",
              "            await google.colab.kernel.invokeFunction('convertToInteractive',\n",
              "                                                     [key], {});\n",
              "          if (!dataTable) return;\n",
              "\n",
              "          const docLinkHtml = 'Like what you see? Visit the ' +\n",
              "            '<a target=\"_blank\" href=https://colab.research.google.com/notebooks/data_table.ipynb>data table notebook</a>'\n",
              "            + ' to learn more about interactive tables.';\n",
              "          element.innerHTML = '';\n",
              "          dataTable['output_type'] = 'display_data';\n",
              "          await google.colab.output.renderOutput(dataTable, element);\n",
              "          const docLink = document.createElement('div');\n",
              "          docLink.innerHTML = docLinkHtml;\n",
              "          element.appendChild(docLink);\n",
              "        }\n",
              "      </script>\n",
              "    </div>\n",
              "  </div>\n",
              "  "
            ]
          },
          "metadata": {},
          "execution_count": 14
        }
      ]
    },
    {
      "cell_type": "code",
      "source": [
        "# Node represents a node in a decision tree. The __init__ method initializes the attributes of a Node object, \n",
        "# The leaf method checks if the node is a leaf node by checking if its value attribute is not None.\n",
        "\n",
        "class Node:\n",
        "    def __init__(self, feature=None, threshold=None, left=None, right=None, *, value=None):\n",
        "        self.left = left;self.right = right;self.value = value;self.feature = feature;self.threshold = threshold\n",
        "    def leaf(self):\n",
        "        return self.value is not None"
      ],
      "metadata": {
        "id": "Yw1AA7HkD34w"
      },
      "execution_count": 15,
      "outputs": []
    },
    {
      "cell_type": "code",
      "source": [
        "class Decision_Tree:\n",
        "    def __init__(self, maximum_depth=7, minimum_samples_split=2):\n",
        "        self.maximum_depth = maximum_depth;self.minimum_samples_split = minimum_samples_split;self.root = None;\n",
        "    # If the maximum depth of the tree has been reached or the number of class labels is 1 or the number of samples is less than.\n",
        "    # The minimum samples required for a split, it returns True. Otherwise, it returns False.\n",
        "    def _isfinished(self, depth):\n",
        "        if (self.maximum_depth<=depth or self.n_class_labels == 1 or self.n_samples < self.minimum_samples_split):\n",
        "            return True\n",
        "        return False\n",
        "    # The method first calculates the number of labels in y, and if there is only one label or none, it returns 0.\n",
        "    #  It then calculates the probability of each label, and uses them to calculate the entropy .\n",
        "    def _entropy(self, y):\n",
        "        labels = len(y)\n",
        "        if labels <= 1:\n",
        "          return 0\n",
        "        counts = np.bincount(y)\n",
        "        probabilities = counts / labels\n",
        "        entropy = 0\n",
        "        for probs in probabilities:\n",
        "          if probs > 0:\n",
        "              entropy -= probs * np.log2(probs)\n",
        "        return entropy\n",
        "      #  The method first calculates the entropy of the parent node, and then uses the _create_split method to create left and right splits. \n",
        "      #  It then calculates the entropy of the left and right splits and combines them to calculate the child loss.\n",
        "      #  Finally, it calculates the information gain by subtracting the child loss from the parent loss. \n",
        "    def _information_gain(self, X, y, threshold):\n",
        "        parent_loss = self._entropy(y)\n",
        "        left_idx, right_idx = self._create_split(X, threshold)\n",
        "        n, left, right = len(y), len(left_idx), len(right_idx)\n",
        "        if left == 0 or right == 0: \n",
        "            return 0\n",
        "        child_loss = (left / n) * self._entropy(y[left_idx]) + (right / n) * self._entropy(y[right_idx])\n",
        "        return parent_loss - child_loss\n",
        "    def _create_split(self, X, threshold):\n",
        "        left_idx = np.where(X <= threshold)[0]\n",
        "        right_idx = np.where(X > threshold)[0]\n",
        "        return left_idx, right_idx\n",
        "    def _best_split(self, X, y, features):\n",
        "      score = [(f, threshold, self._information_gain(X[:, f], y, threshold)) for f in features\n",
        "              for threshold in np.unique(X[:, f])]\n",
        "      best_feat, best_thresh, _ = max(score, key=lambda x: x[2])\n",
        "      return best_feat, best_thresh\n",
        "    def _tree_build(self, X, y, depth=0):\n",
        "        self.n_samples, self.n_features = X.shape\n",
        "        self.n_class_labels = len(np.unique(y))\n",
        "        # stopping criteria\n",
        "        if self._isfinished(depth):\n",
        "            most_common_Label = np.argmax(np.bincount(y))\n",
        "            return Node(value=most_common_Label)\n",
        "        rnd_feats = np.random.choice(self.n_features, self.n_features, replace=False)\n",
        "        best_feat, best_thresh = self._best_split(X, y, rnd_feats)\n",
        "        left_idx, right_idx = self._create_split(X[:, best_feat], best_thresh)\n",
        "        left_child = self._tree_build(X[left_idx, :], y[left_idx], depth + 1)\n",
        "        right_child = self._tree_build(X[right_idx, :], y[right_idx], depth + 1)\n",
        "        return Node(best_feat, best_thresh, left_child, right_child)\n",
        "    def _tree_traverse(self, x, node):\n",
        "      if node.leaf():\n",
        "            return node.value\n",
        "      # Otherwise, evaluate the condition at the current node\n",
        "      feature_idx = node.feature\n",
        "      threshold = node.threshold\n",
        "      if x[feature_idx] <= threshold:\n",
        "          next_node = node.left\n",
        "      else:\n",
        "          next_node = node.right\n",
        "      # Recursively traverse the next node in the decision tree\n",
        "      return self._tree_traverse(x, next_node)\n",
        "    def fit(self, X, y):\n",
        "        self.root = self._tree_build(X, y)\n",
        "    def predict(self, X):\n",
        "        predictions = np.apply_along_axis(self._tree_traverse, 1, X, self.root)\n",
        "        return np.array(predictions)\n"
      ],
      "metadata": {
        "id": "TUkN9ebkD37q"
      },
      "execution_count": 16,
      "outputs": []
    },
    {
      "cell_type": "code",
      "source": [
        "\n",
        "# It first creates a Counter object from the input y, which counts the frequency of each label.\n",
        "#  It then uses the most_common method of the Counter object to get the most common label and returns it.\n",
        "def most_common_label(y):\n",
        "    counter = Counter(y)\n",
        "    most_common = counter.most_common(1)[0][0]\n",
        "    return most_common\n",
        "# It first calculates the number of samples in X, and then uses NumPy's random.choice method to randomly select indices from X with replacement. \n",
        "# It then creates a new set of features and target variable by using the selected indices.\n",
        "\n",
        "def bootstrap_sample(X, y):\n",
        "    samples = X.shape[0]\n",
        "    bootstrap_indices = np.random.choice(samples, size=samples, replace=True)\n",
        "    X_bootstrap = X[bootstrap_indices, :]\n",
        "    y_bootstrap = y[bootstrap_indices]\n",
        "    return X_bootstrap,y_bootstrap\n"
      ],
      "metadata": {
        "id": "j3ZPYsx8D3-k"
      },
      "execution_count": 17,
      "outputs": []
    },
    {
      "cell_type": "code",
      "source": [
        "class RandomForest:\n",
        "    \n",
        "    def __init__(self, n_trees=20, minimum_samples_split=2,\n",
        "                 maximum_depth=7, n_features=None, n_samples=12):\n",
        "        self.n_trees = n_trees;self.minimum_samples_split = minimum_samples_split;self.maximum_depth = maximum_depth;self.n_features = n_features;self.n_samples=n_samples;self.trees = []\n",
        "    # randomly selects indices from the input features using NumPy's random.choice method.\n",
        "    #  It then creates a decision tree object and fits it to a bootstrap sample of the input features and target variable. \n",
        "    #  Finally, it appends the decision tree object to the list of decision trees. The process is repeated for n_trees number of times.\n",
        "    def fit(self, X, y):\n",
        "        self.trees = []\n",
        "        bootstrap_indices = np.random.choice(self.n_samples, 12, replace=False)\n",
        "        for _ in range(self.n_trees):\n",
        "            tree = Decision_Tree(minimum_samples_split=self.minimum_samples_split,\n",
        "                maximum_depth=self.maximum_depth)\n",
        "            X_sample, y_sample = bootstrap_sample(X, y)\n",
        "            tree.fit(X_sample, y_sample)\n",
        "            self.trees.append(tree)\n",
        "    # It first generates predictions from each of the decision trees in the forest for the input features X.\n",
        "    # finds the most common prediction across all the decision trees for each sample. Finally, it returns an array of the most common predictions.\n",
        "    def predict(self, X):\n",
        "        tree_preds = np.array([tree.predict(X) for tree in self.trees])\n",
        "        tree_preds = np.swapaxes(tree_preds, 0, 1)\n",
        "        y_pred = [most_common_label(tree_pred) for tree_pred in tree_preds]\n",
        "        return np.array(y_pred)\n",
        "    # This is a method of a class that generates predictions from each of the decision trees in the fitted random forest model for the input features X.\n",
        "    #  It returns an array of predictions where each row corresponds to a sample and each column corresponds to a decision tree.\n",
        "    def pred_print_tree(self, X):\n",
        "        tree_preds = np.array([tree.predict(X) for tree in self.trees])\n",
        "        tree_preds = np.swapaxes(tree_preds, 0, 1)\n",
        "        return tree_preds\n"
      ],
      "metadata": {
        "id": "aOkleJg2D4BV"
      },
      "execution_count": 18,
      "outputs": []
    },
    {
      "cell_type": "code",
      "source": [
        "def plot_confusion_matrix(y_test, y_pred, plt_title):\n",
        "    c_m=confusion_matrix(y_test, y_pred)\n",
        "    print(\"\\u0332\".join('\\nClassification Report for the main implementation\\n'),'\\n', classification_report(y_test, y_pred))\n",
        "    sns.heatmap(c_m, fmt='g', annot=True, cmap='BuPu')\n",
        "    plt.xlabel('Predicted Values')\n",
        "    plt.ylabel('Actual Values')\n",
        "    plt.title(plt_title)\n",
        "    plt.show()\n",
        "    return c_m"
      ],
      "metadata": {
        "id": "k9T8dcz1D4EI"
      },
      "execution_count": 19,
      "outputs": []
    },
    {
      "cell_type": "code",
      "source": [
        "# \n",
        "# This code first converts the DataFrames to their corresponding numpy arrays using the values attribute.\n",
        "# then applies the squeeze function to remove any unnecessary dimensions.\n",
        "\n",
        "x = X_train.values\n",
        "y = y_train.values\n",
        "X_test =np.asarray(X_test)\n",
        "y_test = np.asarray(y_test)\n",
        "x = np.squeeze(x)\n",
        "y = np.squeeze(y)\n",
        "X_test = np.squeeze(X_test)\n",
        "y_test = np.squeeze(y_test)\n",
        "\n",
        "\n",
        "# print(x.shape)\n",
        "# print(y.shape)\n",
        "# print(x2.shape)\n",
        "# print(y2.shape)"
      ],
      "metadata": {
        "id": "uhyZDCshD4G5"
      },
      "execution_count": 20,
      "outputs": []
    },
    {
      "cell_type": "code",
      "source": [
        "from sklearn.metrics import accuracy_score\n",
        "clf = RandomForest(n_trees=20)\n",
        "clf.fit(X_train.values, y_train.values)\n",
        "y_pred = clf.predict(X_test) \n",
        "acc2 = accuracy_score(y_test, y_pred)\n",
        "\n",
        "rmse = mean_squared_error(y_test, y_pred)\n",
        "\n",
        "print(\"Accuracy: \", acc2)\n",
        "print(\"RMSE: \", rmse   )"
      ],
      "metadata": {
        "id": "PWLnHRhiD4Jz",
        "colab": {
          "base_uri": "https://localhost:8080/"
        },
        "outputId": "1a986521-5626-499a-e870-fee4d53e58e9"
      },
      "execution_count": 21,
      "outputs": [
        {
          "output_type": "stream",
          "name": "stdout",
          "text": [
            "Accuracy:  0.958139534883721\n",
            "RMSE:  0.04186046511627907\n"
          ]
        }
      ]
    },
    {
      "cell_type": "code",
      "source": [
        "cm_rfc= plot_confusion_matrix(y_test, y_pred, 'Random Forest Confusion Matrix')"
      ],
      "metadata": {
        "id": "-0GoZsDxD4Ml",
        "colab": {
          "base_uri": "https://localhost:8080/",
          "height": 503
        },
        "outputId": "302970b7-dbd5-42c3-88a8-ae660ca67fcb"
      },
      "execution_count": 22,
      "outputs": [
        {
          "output_type": "stream",
          "name": "stdout",
          "text": [
            "\n",
            "̲C̲l̲a̲s̲s̲i̲f̲i̲c̲a̲t̲i̲o̲n̲ ̲R̲e̲p̲o̲r̲t̲ ̲f̲o̲r̲ ̲t̲h̲e̲ ̲m̲a̲i̲n̲ ̲i̲m̲p̲l̲e̲m̲e̲n̲t̲a̲t̲i̲o̲n̲\n",
            " \n",
            "               precision    recall  f1-score   support\n",
            "\n",
            "           0       0.96      0.95      0.95       100\n",
            "           1       0.96      0.97      0.96       115\n",
            "\n",
            "    accuracy                           0.96       215\n",
            "   macro avg       0.96      0.96      0.96       215\n",
            "weighted avg       0.96      0.96      0.96       215\n",
            "\n"
          ]
        },
        {
          "output_type": "display_data",
          "data": {
            "text/plain": [
              "<Figure size 432x288 with 2 Axes>"
            ],
            "image/png": "[encoded data removed]"
          },
          "metadata": {
            "needs_background": "light"
          }
        }
      ]
    },
    {
      "cell_type": "code",
      "source": [
        "from sklearn.metrics import precision_score, recall_score, f1_score, accuracy_score\n",
        "cv = StratifiedKFold(n_splits=10, random_state=123, shuffle=True)\n",
        "k_fold_accuracy = []\n",
        "k_fold_precision = []\n",
        "k_fold_recall = []\n",
        "k_fold_f1_score = []\n",
        "\n",
        "for (train, test), i in zip(cv.split(x,y), range(10)):\n",
        "  clf = RandomForest(n_trees=3)\n",
        "  clf.fit(X_train.values, y_train.values)\n",
        "  pred = clf.predict(X_test)\n",
        "  k_fold_f1_score.append(f1_score(y_test, pred))\n",
        "  k_fold_precision.append(precision_score(y_test, pred))\n",
        "  k_fold_recall.append(recall_score(y_test, pred))\n",
        "  k_fold_accuracy.append(accuracy_score(y_test, pred))\n",
        "  print(k_fold_accuracy)\n",
        "\n",
        "average_cross_val_accuracy = sum(k_fold_accuracy) / len(k_fold_accuracy)\n",
        "average_cross_val_precision = sum(k_fold_precision) / len(k_fold_precision)\n",
        "average_cross_val_recall = sum(k_fold_recall) / len(k_fold_recall)\n",
        "average_cross_val_f1_score= sum(k_fold_f1_score) / len(k_fold_f1_score)\n",
        "\n",
        "print(\"Average accuracy after 10-fold cross validation: \",average_cross_val_accuracy)\n",
        "print(\"Average f1_score after 10-fold cross validation: \",average_cross_val_f1_score)\n",
        "print(\"Average precision after 10-fold cross validation: \",average_cross_val_precision)\n",
        "print(\"Average recall after 10-fold cross validation: \",average_cross_val_recall)\n"
      ],
      "metadata": {
        "id": "sK0US3OWdEKf",
        "outputId": "6ca3946a-b6aa-4373-dfc8-78003bc39244",
        "colab": {
          "base_uri": "https://localhost:8080/"
        }
      },
      "execution_count": 23,
      "outputs": [
        {
          "output_type": "stream",
          "name": "stdout",
          "text": [
            "[0.9534883720930233]\n",
            "[0.9534883720930233, 0.958139534883721]\n",
            "[0.9534883720930233, 0.958139534883721, 0.9488372093023256]\n",
            "[0.9534883720930233, 0.958139534883721, 0.9488372093023256, 0.9395348837209302]\n",
            "[0.9534883720930233, 0.958139534883721, 0.9488372093023256, 0.9395348837209302, 0.9348837209302325]\n",
            "[0.9534883720930233, 0.958139534883721, 0.9488372093023256, 0.9395348837209302, 0.9348837209302325, 0.9534883720930233]\n",
            "[0.9534883720930233, 0.958139534883721, 0.9488372093023256, 0.9395348837209302, 0.9348837209302325, 0.9534883720930233, 0.9395348837209302]\n",
            "[0.9534883720930233, 0.958139534883721, 0.9488372093023256, 0.9395348837209302, 0.9348837209302325, 0.9534883720930233, 0.9395348837209302, 0.9441860465116279]\n",
            "[0.9534883720930233, 0.958139534883721, 0.9488372093023256, 0.9395348837209302, 0.9348837209302325, 0.9534883720930233, 0.9395348837209302, 0.9441860465116279, 0.958139534883721]\n",
            "[0.9534883720930233, 0.958139534883721, 0.9488372093023256, 0.9395348837209302, 0.9348837209302325, 0.9534883720930233, 0.9395348837209302, 0.9441860465116279, 0.958139534883721, 0.9627906976744186]\n",
            "Average accuracy after 10-fold cross validation:  0.9493023255813953\n",
            "Average f1_score after 10-fold cross validation:  0.953517555396744\n",
            "Average precision after 10-fold cross validation:  0.9365656865171322\n",
            "Average recall after 10-fold cross validation:  0.971304347826087\n"
          ]
        }
      ]
    },
    {
      "cell_type": "code",
      "source": [
        "# F1_Score on the y-axis and MAXIMUM_DEPTH on the x-axis\n",
        "x = [3,4,5,6,7,8]\n",
        "y = [0.96,0.96,0.95,0.96,0.97,0.94]\n",
        "\n",
        "# Create a plot\n",
        "plt.plot(x, y)\n",
        "\n",
        "# Add labels to the x and y axis\n",
        "plt.xlabel('MAXIMUM_DEPTH')\n",
        "plt.ylabel('F1_Score')\n",
        "\n",
        "# Show the plot\n",
        "plt.show()\n",
        "\n",
        "\n"
      ],
      "metadata": {
        "id": "i_m2r3L-D4Pe",
        "colab": {
          "base_uri": "https://localhost:8080/",
          "height": 280
        },
        "outputId": "9227265d-af1c-4352-f111-51a4277d1040"
      },
      "execution_count": 24,
      "outputs": [
        {
          "output_type": "display_data",
          "data": {
            "text/plain": [
              "<Figure size 432x288 with 1 Axes>"
            ],
            "image/png": "[encoded data removed]"
          },
          "metadata": {
            "needs_background": "light"
          }
        }
      ]
    },
    {
      "cell_type": "code",
      "source": [
        "# Precision on the y-axis and MAXIMUM_DEPTH on the x-axis\n",
        "x = [3,4,5,6,7,8]\n",
        "y = [0.96,0.96,0.95,0.96,0.97,0.95]\n",
        "\n",
        "# Create a plot\n",
        "plt.plot(x, y)\n",
        "\n",
        "# Add labels to the x and y axis\n",
        "plt.xlabel('MAXIMUM_DEPTH')\n",
        "plt.ylabel('Precision')\n",
        "\n",
        "# Show the plot\n",
        "plt.show()"
      ],
      "metadata": {
        "id": "jWxnV2bqD4SH",
        "colab": {
          "base_uri": "https://localhost:8080/",
          "height": 280
        },
        "outputId": "d648cea2-8be3-434f-8b99-f58fef7b8080"
      },
      "execution_count": 25,
      "outputs": [
        {
          "output_type": "display_data",
          "data": {
            "text/plain": [
              "<Figure size 432x288 with 1 Axes>"
            ],
            "image/png": "[encoded data removed]"
          },
          "metadata": {
            "needs_background": "light"
          }
        }
      ]
    },
    {
      "cell_type": "code",
      "source": [
        "# Recall on the y-axis and MAXIMUM_DEPTH on the x-axis\n",
        "x = [3,4,5,6,7,8]\n",
        "y = [0.96,0.96,0.95,0.96,0.97,0.94]\n",
        "# Create a plot\n",
        "plt.plot(x, y)\n",
        "\n",
        "# Add labels to the x and y axis\n",
        "plt.xlabel('Recall')\n",
        "plt.ylabel('MAXIMUM_DEPTH')\n",
        "\n",
        "# Show the plot\n",
        "plt.show()"
      ],
      "metadata": {
        "id": "AkwV2GvQD4U5",
        "colab": {
          "base_uri": "https://localhost:8080/",
          "height": 279
        },
        "outputId": "9b5dc8b3-62fd-41b6-d246-d07d63ab9988"
      },
      "execution_count": 26,
      "outputs": [
        {
          "output_type": "display_data",
          "data": {
            "text/plain": [
              "<Figure size 432x288 with 1 Axes>"
            ],
            "image/png": "[encoded data removed]"
          },
          "metadata": {
            "needs_background": "light"
          }
        }
      ]
    },
    {
      "cell_type": "code",
      "source": [
        "# F1_Score on the y-axis and n_trees on the x-axis\n",
        "x = [10,50,100,150,200]\n",
        "y = [0.95,0.95,0.95,0.95,0.95]\n",
        "\n",
        "# Create a plot\n",
        "plt.plot(x, y)\n",
        "\n",
        "# Add labels to the x and y axis\n",
        "plt.xlabel('n_trees')\n",
        "plt.ylabel('F1_Score')\n",
        "\n",
        "# Show the plot\n",
        "plt.show()"
      ],
      "metadata": {
        "colab": {
          "base_uri": "https://localhost:8080/",
          "height": 280
        },
        "id": "9u6ePDPC1Mnb",
        "outputId": "afdfca1f-96e8-482b-e0a5-ad4bf2a1c3a2"
      },
      "execution_count": 27,
      "outputs": [
        {
          "output_type": "display_data",
          "data": {
            "text/plain": [
              "<Figure size 432x288 with 1 Axes>"
            ],
            "image/png": "[encoded data removed]"
          },
          "metadata": {
            "needs_background": "light"
          }
        }
      ]
    },
    {
      "cell_type": "code",
      "source": [
        "# Precision on the y-axis and MAXIMUM_DEPTH on the x-axis\n",
        "x = [10,50,100,150,200]\n",
        "y = [0.95,0.95,0.95,0.95,0.95]\n",
        "\n",
        "# Create a plot\n",
        "plt.plot(x, y)\n",
        "\n",
        "# Add labels to the x and y axis\n",
        "plt.xlabel('MAXIMUM_DEPTH')\n",
        "plt.ylabel('Precision')\n",
        "\n",
        "# Show the plot\n",
        "plt.show()"
      ],
      "metadata": {
        "colab": {
          "base_uri": "https://localhost:8080/",
          "height": 280
        },
        "id": "0SwQTkBI1Mve",
        "outputId": "813aa7d7-3aae-4c0c-9696-0c58d43a10ba"
      },
      "execution_count": 28,
      "outputs": [
        {
          "output_type": "display_data",
          "data": {
            "text/plain": [
              "<Figure size 432x288 with 1 Axes>"
            ],
            "image/png": "[encoded data removed]"
          },
          "metadata": {
            "needs_background": "light"
          }
        }
      ]
    },
    {
      "cell_type": "code",
      "source": [
        "# Recall on the y-axis and MAXIMUM_DEPTH on the x-axis\n",
        "x = [10,50,100,150,200]\n",
        "y = [0.95,0.95,0.95,0.95,0.95]\n",
        "# Create a plot\n",
        "plt.plot(x, y)\n",
        "\n",
        "# Add labels to the x and y axis\n",
        "plt.xlabel('Recall')\n",
        "plt.ylabel('MAXIMUM_DEPTH')\n",
        "\n",
        "# Show the plot\n",
        "plt.show()"
      ],
      "metadata": {
        "colab": {
          "base_uri": "https://localhost:8080/",
          "height": 279
        },
        "id": "xC-PJEFe1M4X",
        "outputId": "52131b9a-38b4-42a7-8214-473a6f94e01d"
      },
      "execution_count": 29,
      "outputs": [
        {
          "output_type": "display_data",
          "data": {
            "text/plain": [
              "<Figure size 432x288 with 1 Axes>"
            ],
            "image/png": "[encoded data removed]"
          },
          "metadata": {
            "needs_background": "light"
          }
        }
      ]
    },
    {
      "cell_type": "markdown",
      "source": [
        "#Correctness report"
      ],
      "metadata": {
        "id": "9xtD08Oj2rii"
      }
    },
    {
      "cell_type": "code",
      "source": [
        "#Correctness report"
      ],
      "metadata": {
        "id": "LiSVlrCTD4Xz"
      },
      "execution_count": 30,
      "outputs": []
    },
    {
      "cell_type": "code",
      "source": [
        "df2 = pd.read_csv(\"correct.csv\")"
      ],
      "metadata": {
        "id": "4kWP4SB1D4at"
      },
      "execution_count": 31,
      "outputs": []
    },
    {
      "cell_type": "code",
      "source": [
        "df2.head()"
      ],
      "metadata": {
        "id": "dcYACfkqD4dq",
        "colab": {
          "base_uri": "https://localhost:8080/",
          "height": 206
        },
        "outputId": "9d42c1a2-fe42-4e46-d4a5-4db01c2f7554"
      },
      "execution_count": 32,
      "outputs": [
        {
          "output_type": "execute_result",
          "data": {
            "text/plain": [
              "   Feature 1  Feature 2  Class/Cluster\n",
              "0      0.020        0.0              1\n",
              "1      1.045        0.0              1\n",
              "2      2.080        0.0              1\n",
              "3      3.125        0.0              1\n",
              "4      4.180        0.0              1"
            ],
            "text/html": [
              "\n",
              "  <div id=\"df-79c85e35-ef35-46a6-92bd-dacf36ecd550\">\n",
              "    <div class=\"colab-df-container\">\n",
              "      <div>\n",
              "<style scoped>\n",
              "    .dataframe tbody tr th:only-of-type {\n",
              "        vertical-align: middle;\n",
              "    }\n",
              "\n",
              "    .dataframe tbody tr th {\n",
              "        vertical-align: top;\n",
              "    }\n",
              "\n",
              "    .dataframe thead th {\n",
              "        text-align: right;\n",
              "    }\n",
              "</style>\n",
              "<table border=\"1\" class=\"dataframe\">\n",
              "  <thead>\n",
              "    <tr style=\"text-align: right;\">\n",
              "      <th></th>\n",
              "      <th>Feature 1</th>\n",
              "      <th>Feature 2</th>\n",
              "      <th>Class/Cluster</th>\n",
              "    </tr>\n",
              "  </thead>\n",
              "  <tbody>\n",
              "    <tr>\n",
              "      <th>0</th>\n",
              "      <td>0.020</td>\n",
              "      <td>0.0</td>\n",
              "      <td>1</td>\n",
              "    </tr>\n",
              "    <tr>\n",
              "      <th>1</th>\n",
              "      <td>1.045</td>\n",
              "      <td>0.0</td>\n",
              "      <td>1</td>\n",
              "    </tr>\n",
              "    <tr>\n",
              "      <th>2</th>\n",
              "      <td>2.080</td>\n",
              "      <td>0.0</td>\n",
              "      <td>1</td>\n",
              "    </tr>\n",
              "    <tr>\n",
              "      <th>3</th>\n",
              "      <td>3.125</td>\n",
              "      <td>0.0</td>\n",
              "      <td>1</td>\n",
              "    </tr>\n",
              "    <tr>\n",
              "      <th>4</th>\n",
              "      <td>4.180</td>\n",
              "      <td>0.0</td>\n",
              "      <td>1</td>\n",
              "    </tr>\n",
              "  </tbody>\n",
              "</table>\n",
              "</div>\n",
              "      <button class=\"colab-df-convert\" onclick=\"convertToInteractive('df-79c85e35-ef35-46a6-92bd-dacf36ecd550')\"\n",
              "              title=\"Convert this dataframe to an interactive table.\"\n",
              "              style=\"display:none;\">\n",
              "        \n",
              "  <svg xmlns=\"http://www.w3.org/2000/svg\" height=\"24px\"viewBox=\"0 0 24 24\"\n",
              "       width=\"24px\">\n",
              "    <path d=\"M0 0h24v24H0V0z\" fill=\"none\"/>\n",
              "    <path d=\"M18.56 5.44l.94 2.06.94-2.06 2.06-.94-2.06-.94-.94-2.06-.94 2.06-2.06.94zm-11 1L8.5 8.5l.94-2.06 2.06-.94-2.06-.94L8.5 2.5l-.94 2.06-2.06.94zm10 10l.94 2.06.94-2.06 2.06-.94-2.06-.94-.94-2.06-.94 2.06-2.06.94z\"/><path d=\"M17.41 7.96l-1.37-1.37c-.4-.4-.92-.59-1.43-.59-.52 0-1.04.2-1.43.59L10.3 9.45l-7.72 7.72c-.78.78-.78 2.05 0 2.83L4 21.41c.39.39.9.59 1.41.59.51 0 1.02-.2 1.41-.59l7.78-7.78 2.81-2.81c.8-.78.8-2.07 0-2.86zM5.41 20L4 18.59l7.72-7.72 1.47 1.35L5.41 20z\"/>\n",
              "  </svg>\n",
              "      </button>\n",
              "      \n",
              "  <style>\n",
              "    .colab-df-container {\n",
              "      display:flex;\n",
              "      flex-wrap:wrap;\n",
              "      gap: 12px;\n",
              "    }\n",
              "\n",
              "    .colab-df-convert {\n",
              "      background-color: #E8F0FE;\n",
              "      border: none;\n",
              "      border-radius: 50%;\n",
              "      cursor: pointer;\n",
              "      display: none;\n",
              "      fill: #1967D2;\n",
              "      height: 32px;\n",
              "      padding: 0 0 0 0;\n",
              "      width: 32px;\n",
              "    }\n",
              "\n",
              "    .colab-df-convert:hover {\n",
              "      background-color: #E2EBFA;\n",
              "      box-shadow: 0px 1px 2px rgba(60, 64, 67, 0.3), 0px 1px 3px 1px rgba(60, 64, 67, 0.15);\n",
              "      fill: #174EA6;\n",
              "    }\n",
              "\n",
              "    [theme=dark] .colab-df-convert {\n",
              "      background-color: #3B4455;\n",
              "      fill: #D2E3FC;\n",
              "    }\n",
              "\n",
              "    [theme=dark] .colab-df-convert:hover {\n",
              "      background-color: #434B5C;\n",
              "      box-shadow: 0px 1px 3px 1px rgba(0, 0, 0, 0.15);\n",
              "      filter: drop-shadow(0px 1px 2px rgba(0, 0, 0, 0.3));\n",
              "      fill: #FFFFFF;\n",
              "    }\n",
              "  </style>\n",
              "\n",
              "      <script>\n",
              "        const buttonEl =\n",
              "          document.querySelector('#df-79c85e35-ef35-46a6-92bd-dacf36ecd550 button.colab-df-convert');\n",
              "        buttonEl.style.display =\n",
              "          google.colab.kernel.accessAllowed ? 'block' : 'none';\n",
              "\n",
              "        async function convertToInteractive(key) {\n",
              "          const element = document.querySelector('#df-79c85e35-ef35-46a6-92bd-dacf36ecd550');\n",
              "          const dataTable =\n",
              "            await google.colab.kernel.invokeFunction('convertToInteractive',\n",
              "                                                     [key], {});\n",
              "          if (!dataTable) return;\n",
              "\n",
              "          const docLinkHtml = 'Like what you see? Visit the ' +\n",
              "            '<a target=\"_blank\" href=https://colab.research.google.com/notebooks/data_table.ipynb>data table notebook</a>'\n",
              "            + ' to learn more about interactive tables.';\n",
              "          element.innerHTML = '';\n",
              "          dataTable['output_type'] = 'display_data';\n",
              "          await google.colab.output.renderOutput(dataTable, element);\n",
              "          const docLink = document.createElement('div');\n",
              "          docLink.innerHTML = docLinkHtml;\n",
              "          element.appendChild(docLink);\n",
              "        }\n",
              "      </script>\n",
              "    </div>\n",
              "  </div>\n",
              "  "
            ]
          },
          "metadata": {},
          "execution_count": 32
        }
      ]
    },
    {
      "cell_type": "code",
      "source": [
        "df2.info()"
      ],
      "metadata": {
        "id": "ecFPM0iiD4gQ",
        "colab": {
          "base_uri": "https://localhost:8080/"
        },
        "outputId": "5269750f-0273-4761-865c-5baba3a99f9f"
      },
      "execution_count": 33,
      "outputs": [
        {
          "output_type": "stream",
          "name": "stdout",
          "text": [
            "<class 'pandas.core.frame.DataFrame'>\n",
            "RangeIndex: 17 entries, 0 to 16\n",
            "Data columns (total 3 columns):\n",
            " #   Column         Non-Null Count  Dtype  \n",
            "---  ------         --------------  -----  \n",
            " 0   Feature 1      17 non-null     float64\n",
            " 1   Feature 2      17 non-null     float64\n",
            " 2   Class/Cluster  17 non-null     int64  \n",
            "dtypes: float64(2), int64(1)\n",
            "memory usage: 536.0 bytes\n"
          ]
        }
      ]
    },
    {
      "cell_type": "code",
      "source": [
        "df2[\"Class/Cluster\"].value_counts(normalize=True).plot(kind='bar')\n",
        "plt.show()"
      ],
      "metadata": {
        "id": "2PoqWJTaD4iq",
        "colab": {
          "base_uri": "https://localhost:8080/",
          "height": 262
        },
        "outputId": "dcd83421-c7ee-4dbe-a5ac-9ded63554746"
      },
      "execution_count": 34,
      "outputs": [
        {
          "output_type": "display_data",
          "data": {
            "text/plain": [
              "<Figure size 432x288 with 1 Axes>"
            ],
            "image/png": "[encoded data removed]"
          },
          "metadata": {
            "needs_background": "light"
          }
        }
      ]
    },
    {
      "cell_type": "code",
      "source": [
        "X1= df2.drop(\"Class/Cluster\",axis=1)\n",
        "y1= df2[\"Class/Cluster\"]"
      ],
      "metadata": {
        "id": "yCjXIlwAD4lj"
      },
      "execution_count": 35,
      "outputs": []
    },
    {
      "cell_type": "code",
      "source": [
        "# First, an instance of the MinMaxScaler class is created and stored in the 'MM' variable.\n",
        "# The fit() method is called on 'MM' to compute the minimum and maximum values of the features in X1,\n",
        "# The scaled matrix is then assigned back to 'X1'.\n",
        "from sklearn.preprocessing import MinMaxScaler\n",
        "MM = MinMaxScaler()\n",
        "MM.fit(X1)\n",
        "X1 = MM.transform(X1)"
      ],
      "metadata": {
        "id": "V6lSo84LD4om"
      },
      "execution_count": 36,
      "outputs": []
    },
    {
      "cell_type": "code",
      "source": [
        "from sklearn.model_selection import train_test_split\n",
        "X_train,X_test,y_train,y_test=train_test_split(X1,y1,test_size=0.3,random_state=1)\n",
        "print(X_train.shape)\n",
        "print(X_test.shape)"
      ],
      "metadata": {
        "id": "Nfe1lLXxD4rX",
        "colab": {
          "base_uri": "https://localhost:8080/"
        },
        "outputId": "0a690082-c330-4d61-8aac-00e2a2dbee1c"
      },
      "execution_count": 37,
      "outputs": [
        {
          "output_type": "stream",
          "name": "stdout",
          "text": [
            "(11, 2)\n",
            "(6, 2)\n"
          ]
        }
      ]
    },
    {
      "cell_type": "code",
      "source": [
        "from sklearn.preprocessing import StandardScaler\n",
        "sc=StandardScaler()\n",
        "X_train=pd.DataFrame(sc.fit_transform(X_train))\n",
        "X_test=pd.DataFrame(sc.transform(X_test))\n",
        "X_train.head()"
      ],
      "metadata": {
        "id": "pSC_hto9D4uh",
        "colab": {
          "base_uri": "https://localhost:8080/",
          "height": 206
        },
        "outputId": "f9684787-ffa5-40e6-cee8-f85ac0fcda49"
      },
      "execution_count": 38,
      "outputs": [
        {
          "output_type": "execute_result",
          "data": {
            "text/plain": [
              "          0         1\n",
              "0  0.242054 -0.870371\n",
              "1 -0.753440 -0.870371\n",
              "2 -0.132646  0.428050\n",
              "3 -1.078921 -0.870371\n",
              "4 -0.132646  1.458875"
            ],
            "text/html": [
              "\n",
              "  <div id=\"df-a3583a08-addf-4eee-86b0-8c630b9e116a\">\n",
              "    <div class=\"colab-df-container\">\n",
              "      <div>\n",
              "<style scoped>\n",
              "    .dataframe tbody tr th:only-of-type {\n",
              "        vertical-align: middle;\n",
              "    }\n",
              "\n",
              "    .dataframe tbody tr th {\n",
              "        vertical-align: top;\n",
              "    }\n",
              "\n",
              "    .dataframe thead th {\n",
              "        text-align: right;\n",
              "    }\n",
              "</style>\n",
              "<table border=\"1\" class=\"dataframe\">\n",
              "  <thead>\n",
              "    <tr style=\"text-align: right;\">\n",
              "      <th></th>\n",
              "      <th>0</th>\n",
              "      <th>1</th>\n",
              "    </tr>\n",
              "  </thead>\n",
              "  <tbody>\n",
              "    <tr>\n",
              "      <th>0</th>\n",
              "      <td>0.242054</td>\n",
              "      <td>-0.870371</td>\n",
              "    </tr>\n",
              "    <tr>\n",
              "      <th>1</th>\n",
              "      <td>-0.753440</td>\n",
              "      <td>-0.870371</td>\n",
              "    </tr>\n",
              "    <tr>\n",
              "      <th>2</th>\n",
              "      <td>-0.132646</td>\n",
              "      <td>0.428050</td>\n",
              "    </tr>\n",
              "    <tr>\n",
              "      <th>3</th>\n",
              "      <td>-1.078921</td>\n",
              "      <td>-0.870371</td>\n",
              "    </tr>\n",
              "    <tr>\n",
              "      <th>4</th>\n",
              "      <td>-0.132646</td>\n",
              "      <td>1.458875</td>\n",
              "    </tr>\n",
              "  </tbody>\n",
              "</table>\n",
              "</div>\n",
              "      <button class=\"colab-df-convert\" onclick=\"convertToInteractive('df-a3583a08-addf-4eee-86b0-8c630b9e116a')\"\n",
              "              title=\"Convert this dataframe to an interactive table.\"\n",
              "              style=\"display:none;\">\n",
              "        \n",
              "  <svg xmlns=\"http://www.w3.org/2000/svg\" height=\"24px\"viewBox=\"0 0 24 24\"\n",
              "       width=\"24px\">\n",
              "    <path d=\"M0 0h24v24H0V0z\" fill=\"none\"/>\n",
              "    <path d=\"M18.56 5.44l.94 2.06.94-2.06 2.06-.94-2.06-.94-.94-2.06-.94 2.06-2.06.94zm-11 1L8.5 8.5l.94-2.06 2.06-.94-2.06-.94L8.5 2.5l-.94 2.06-2.06.94zm10 10l.94 2.06.94-2.06 2.06-.94-2.06-.94-.94-2.06-.94 2.06-2.06.94z\"/><path d=\"M17.41 7.96l-1.37-1.37c-.4-.4-.92-.59-1.43-.59-.52 0-1.04.2-1.43.59L10.3 9.45l-7.72 7.72c-.78.78-.78 2.05 0 2.83L4 21.41c.39.39.9.59 1.41.59.51 0 1.02-.2 1.41-.59l7.78-7.78 2.81-2.81c.8-.78.8-2.07 0-2.86zM5.41 20L4 18.59l7.72-7.72 1.47 1.35L5.41 20z\"/>\n",
              "  </svg>\n",
              "      </button>\n",
              "      \n",
              "  <style>\n",
              "    .colab-df-container {\n",
              "      display:flex;\n",
              "      flex-wrap:wrap;\n",
              "      gap: 12px;\n",
              "    }\n",
              "\n",
              "    .colab-df-convert {\n",
              "      background-color: #E8F0FE;\n",
              "      border: none;\n",
              "      border-radius: 50%;\n",
              "      cursor: pointer;\n",
              "      display: none;\n",
              "      fill: #1967D2;\n",
              "      height: 32px;\n",
              "      padding: 0 0 0 0;\n",
              "      width: 32px;\n",
              "    }\n",
              "\n",
              "    .colab-df-convert:hover {\n",
              "      background-color: #E2EBFA;\n",
              "      box-shadow: 0px 1px 2px rgba(60, 64, 67, 0.3), 0px 1px 3px 1px rgba(60, 64, 67, 0.15);\n",
              "      fill: #174EA6;\n",
              "    }\n",
              "\n",
              "    [theme=dark] .colab-df-convert {\n",
              "      background-color: #3B4455;\n",
              "      fill: #D2E3FC;\n",
              "    }\n",
              "\n",
              "    [theme=dark] .colab-df-convert:hover {\n",
              "      background-color: #434B5C;\n",
              "      box-shadow: 0px 1px 3px 1px rgba(0, 0, 0, 0.15);\n",
              "      filter: drop-shadow(0px 1px 2px rgba(0, 0, 0, 0.3));\n",
              "      fill: #FFFFFF;\n",
              "    }\n",
              "  </style>\n",
              "\n",
              "      <script>\n",
              "        const buttonEl =\n",
              "          document.querySelector('#df-a3583a08-addf-4eee-86b0-8c630b9e116a button.colab-df-convert');\n",
              "        buttonEl.style.display =\n",
              "          google.colab.kernel.accessAllowed ? 'block' : 'none';\n",
              "\n",
              "        async function convertToInteractive(key) {\n",
              "          const element = document.querySelector('#df-a3583a08-addf-4eee-86b0-8c630b9e116a');\n",
              "          const dataTable =\n",
              "            await google.colab.kernel.invokeFunction('convertToInteractive',\n",
              "                                                     [key], {});\n",
              "          if (!dataTable) return;\n",
              "\n",
              "          const docLinkHtml = 'Like what you see? Visit the ' +\n",
              "            '<a target=\"_blank\" href=https://colab.research.google.com/notebooks/data_table.ipynb>data table notebook</a>'\n",
              "            + ' to learn more about interactive tables.';\n",
              "          element.innerHTML = '';\n",
              "          dataTable['output_type'] = 'display_data';\n",
              "          await google.colab.output.renderOutput(dataTable, element);\n",
              "          const docLink = document.createElement('div');\n",
              "          docLink.innerHTML = docLinkHtml;\n",
              "          element.appendChild(docLink);\n",
              "        }\n",
              "      </script>\n",
              "    </div>\n",
              "  </div>\n",
              "  "
            ]
          },
          "metadata": {},
          "execution_count": 38
        }
      ]
    },
    {
      "cell_type": "code",
      "source": [
        "x = np.squeeze(np.asarray(X_train))\n",
        "y = np.squeeze(np.asarray(y_train))\n",
        "X_test  = np.squeeze(np.asarray(X_test))\n",
        "y_test = np.squeeze(np.asarray(y_test))\n",
        "\n",
        "\n",
        "print(x.shape)\n",
        "print(y.shape)"
      ],
      "metadata": {
        "id": "0DxEgUrND4xL",
        "colab": {
          "base_uri": "https://localhost:8080/"
        },
        "outputId": "cb9bbf12-cafb-43b8-f985-c158b0fddcd4"
      },
      "execution_count": 39,
      "outputs": [
        {
          "output_type": "stream",
          "name": "stdout",
          "text": [
            "(11, 2)\n",
            "(11,)\n"
          ]
        }
      ]
    },
    {
      "cell_type": "code",
      "source": [
        "from sklearn.model_selection import train_test_split\n",
        "import collections, numpy\n",
        "clf = RandomForest(n_trees=20, maximum_depth=7)\n",
        "array = np.array([[4,4]])\n",
        "\n",
        "clf.fit(X_train.values, y_train.values)\n",
        "y_pred = clf.predict(array)\n",
        "\n",
        "pred=clf.pred_print_tree(array)\n",
        "print(\"Accuracy:\", y_pred)\n",
        "print(pred)\n",
        "\n",
        "num_class1=np.count_nonzero(pred == 1)\n",
        "num_class2=np.count_nonzero(pred== 2)\n",
        "print(\"class 1: \",num_class1)\n",
        "print(\"class 2: \",num_class2)\n",
        "if num_class1>num_class2:\n",
        "  print(\"class 1\")\n",
        "else:\n",
        "  print(\"class 2\")\n",
        "\n",
        "  \n",
        "\n",
        "        "
      ],
      "metadata": {
        "id": "UGtNaDpYD40F",
        "colab": {
          "base_uri": "https://localhost:8080/"
        },
        "outputId": "a6a3634a-9820-4abb-ade5-18ec518cbdf9"
      },
      "execution_count": 41,
      "outputs": [
        {
          "output_type": "stream",
          "name": "stdout",
          "text": [
            "Accuracy: [1]\n",
            "[[1 1 1 1 2 2 1 2 2 2 2 2 2 1 1 1 1 1 1 2]]\n",
            "class 1:  11\n",
            "class 2:  9\n",
            "class 1\n"
          ]
        }
      ]
    },
    {
      "cell_type": "code",
      "source": [
        "from sklearn.metrics import accuracy_score\n",
        "clf = RandomForest(n_trees=3)\n",
        "clf.fit(X_train.values, y_train.values)\n",
        "y_pred = clf.predict(X_test) \n",
        "acc2 = accuracy_score(y_test, y_pred)\n",
        "# acc2 = accuracy(y_test, y_pred)\n",
        "rmse = mean_squared_error(y_test, y_pred)\n",
        "# print(\"Inbuilt Accuracy: \", acc1)\n",
        "print(\"Accuracy: \", acc2)\n",
        "print(\"RMSE: \", rmse   )"
      ],
      "metadata": {
        "colab": {
          "base_uri": "https://localhost:8080/"
        },
        "id": "RxlV-Jc_SynR",
        "outputId": "dbb483b6-cfc5-4276-d3a1-a89e9dda33ac"
      },
      "execution_count": 43,
      "outputs": [
        {
          "output_type": "stream",
          "name": "stdout",
          "text": [
            "Accuracy:  1.0\n",
            "RMSE:  0.0\n"
          ]
        }
      ]
    },
    {
      "cell_type": "code",
      "source": [
        "cm_rfc= plot_confusion_matrix(y_test, y_pred, 'Random Forest Confusion Matrix')"
      ],
      "metadata": {
        "id": "nzWf0cCtSyx9",
        "colab": {
          "base_uri": "https://localhost:8080/",
          "height": 486
        },
        "outputId": "cf3500b4-91a2-42ad-a959-4a2c1ea6db06"
      },
      "execution_count": 44,
      "outputs": [
        {
          "output_type": "stream",
          "name": "stdout",
          "text": [
            "\n",
            "̲C̲l̲a̲s̲s̲i̲f̲i̲c̲a̲t̲i̲o̲n̲ ̲R̲e̲p̲o̲r̲t̲ ̲f̲o̲r̲ ̲t̲h̲e̲ ̲m̲a̲i̲n̲ ̲i̲m̲p̲l̲e̲m̲e̲n̲t̲a̲t̲i̲o̲n̲\n",
            " \n",
            "               precision    recall  f1-score   support\n",
            "\n",
            "           1       1.00      1.00      1.00         6\n",
            "\n",
            "    accuracy                           1.00         6\n",
            "   macro avg       1.00      1.00      1.00         6\n",
            "weighted avg       1.00      1.00      1.00         6\n",
            "\n"
          ]
        },
        {
          "output_type": "display_data",
          "data": {
            "text/plain": [
              "<Figure size 432x288 with 2 Axes>"
            ],
            "image/png": "[encoded data removed]"
          },
          "metadata": {
            "needs_background": "light"
          }
        }
      ]
    }
  ]
}